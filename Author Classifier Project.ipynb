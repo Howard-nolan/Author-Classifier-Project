{
 "cells": [
  {
   "cell_type": "markdown",
   "id": "665d7a52",
   "metadata": {},
   "source": [
    "# Author Classifier Project"
   ]
  },
  {
   "cell_type": "markdown",
   "id": "350d453b",
   "metadata": {},
   "source": [
    "## Imports"
   ]
  },
  {
   "cell_type": "code",
   "execution_count": 1,
   "id": "82c0aa8d",
   "metadata": {},
   "outputs": [],
   "source": [
    "import re\n",
    "import numpy as np\n",
    "import pandas as pd\n",
    "import matplotlib.pyplot as plt\n",
    "import nltk\n",
    "import ipywidgets as widgets\n",
    "\n",
    "from nltk.tokenize import sent_tokenize, word_tokenize, RegexpTokenizer\n",
    "from nltk.corpus import stopwords\n",
    "from nltk.probability import FreqDist\n",
    "from sklearn.feature_extraction.text import CountVectorizer\n",
    "from IPython.display import display\n",
    "\n",
    "from sklearn.model_selection import train_test_split\n",
    "\n",
    "from sklearn.naive_bayes import MultinomialNB, BernoulliNB, GaussianNB, ComplementNB\n",
    "\n",
    "from sklearn import metrics"
   ]
  },
  {
   "cell_type": "markdown",
   "id": "b0f872cc",
   "metadata": {},
   "source": [
    "##  Import dataset"
   ]
  },
  {
   "cell_type": "code",
   "execution_count": 2,
   "id": "c22eca9d",
   "metadata": {},
   "outputs": [],
   "source": [
    "'''\n",
    "This dataset is made up of 5-10 papers from 17 authors working in experimental economics.\n",
    "A papers is marked if it is co-authored by other economics in the dataset.\n",
    "'''\n",
    "\n",
    "df = pd.read_csv(r'journal_database.csv', encoding='latin1')"
   ]
  },
  {
   "cell_type": "code",
   "execution_count": 3,
   "id": "aa05353a",
   "metadata": {},
   "outputs": [],
   "source": [
    "# This line excludes coauthored papers. To turn them on, comment it out\n",
    "df = df[df[\"Co-authored with someone in the database\"]==0]"
   ]
  },
  {
   "cell_type": "markdown",
   "id": "115ade42",
   "metadata": {},
   "source": [
    "## Tokenizing and Count Vectorizing"
   ]
  },
  {
   "cell_type": "code",
   "execution_count": 4,
   "id": "ebd3ce35",
   "metadata": {},
   "outputs": [],
   "source": [
    "# Using uni, bi, and trigrams seems to be the sweet spot\n",
    "token = RegexpTokenizer(r'[a-zA-Z0-9]+')\n",
    "vectorizer = CountVectorizer(lowercase=True,stop_words='english',ngram_range = (1,3),tokenizer = token.tokenize)"
   ]
  },
  {
   "cell_type": "code",
   "execution_count": 5,
   "id": "6855034a",
   "metadata": {},
   "outputs": [],
   "source": [
    "# Transforms X from scipy.sparse._csr.csr_matrix to numpy.matrix\n",
    "x=df['text']\n",
    "\n",
    "# Transforms author column from pandas.core.series.Series to numpy.ndarray\n",
    "y=df['author']"
   ]
  },
  {
   "cell_type": "markdown",
   "id": "8cf94e70",
   "metadata": {},
   "source": [
    "## Spliting Train and Test Data"
   ]
  },
  {
   "cell_type": "code",
   "execution_count": 6,
   "id": "51c5a731",
   "metadata": {},
   "outputs": [],
   "source": [
    "# Using a 70-30 test/train split\n",
    "x_train, x_test, y_train, y_test = train_test_split(x, y, test_size=0.3, random_state=1)"
   ]
  },
  {
   "cell_type": "markdown",
   "id": "fd8e55f6",
   "metadata": {},
   "source": [
    "## Training Several Models"
   ]
  },
  {
   "cell_type": "code",
   "execution_count": 7,
   "id": "089961bf",
   "metadata": {},
   "outputs": [],
   "source": [
    "x_train_bow = vectorizer.fit_transform(x_train)\n",
    "x_train_bow = np.array(x_train_bow.todense())"
   ]
  },
  {
   "cell_type": "code",
   "execution_count": 8,
   "id": "e702b338",
   "metadata": {},
   "outputs": [],
   "source": [
    "# Model Generation Using Multinomial Naive Bayes clasifier (clf)\n",
    "clf_multinomialNB = MultinomialNB().fit(x_train_bow, y_train)\n",
    "clf_bernulliNB = BernoulliNB().fit(x_train_bow, y_train)\n",
    "clf_gaussianNB = GaussianNB().fit(x_train_bow, y_train)\n",
    "clf_complementNB = ComplementNB().fit(x_train_bow, y_train)"
   ]
  },
  {
   "cell_type": "markdown",
   "id": "b6fc1eca",
   "metadata": {},
   "source": [
    "## Evaluting Model Accuracy"
   ]
  },
  {
   "cell_type": "code",
   "execution_count": 9,
   "id": "c05313e5",
   "metadata": {},
   "outputs": [
    {
     "name": "stdout",
     "output_type": "stream",
     "text": [
      "MultinomialNB Accuracy: 0.3125\n",
      "BernoulliNB Accuracy: 0.0\n",
      "GaussianNB Accuracy: 0.3125\n",
      "ComplementNB Accuracy: 0.53125\n"
     ]
    }
   ],
   "source": [
    "#converting testing samples into bag of words\n",
    "x_test_bow = vectorizer.transform(x_test)\n",
    "x_test_bow = np.array(x_test_bow.todense())\n",
    "\n",
    "# Fitting the models\n",
    "clf_multinomialNB_predicted = clf_multinomialNB.predict(x_test_bow)\n",
    "clf_bernulliNB_predicted = clf_bernulliNB.predict(x_test_bow)\n",
    "clf_gaussianNB_predicted = clf_gaussianNB.predict(x_test_bow)\n",
    "clf_complementNB_predicted = clf_complementNB.predict(x_test_bow)\n",
    "\n",
    "# Comparing predictions with actual clasifications\n",
    "print(\"MultinomialNB Accuracy:\",metrics.accuracy_score(y_test, clf_multinomialNB_predicted))\n",
    "print(\"BernoulliNB Accuracy:\",metrics.accuracy_score(y_test, clf_bernulliNB_predicted))\n",
    "print(\"GaussianNB Accuracy:\",metrics.accuracy_score(y_test, clf_gaussianNB_predicted))\n",
    "print(\"ComplementNB Accuracy:\",metrics.accuracy_score(y_test, clf_complementNB_predicted))"
   ]
  },
  {
   "cell_type": "markdown",
   "id": "b9d2d7fd",
   "metadata": {},
   "source": [
    "## Determining how accuracy changes when we accept the top n authors"
   ]
  },
  {
   "cell_type": "code",
   "execution_count": 10,
   "id": "e1812d4d",
   "metadata": {},
   "outputs": [],
   "source": [
    "def remove_x_y_by_y(x, y, y_value):\n",
    "    \"\"\"\n",
    "    \n",
    "    Helper function for lenient_prediction function.\n",
    "    \n",
    "    Remove all x values that line up with a certain y value,\n",
    "    as well as the corresponding y values.\n",
    "\n",
    "    Args:\n",
    "        x (pandas.Series or dict): x dataset with shared indices with y.\n",
    "        y (pandas.Series or dict): y dataset with shared indices with x.\n",
    "        y_value (float or int): The y value to remove x and y values for.\n",
    "\n",
    "    Returns:\n",
    "        Tuple of pandas.Series or dict: A tuple of two datasets:\n",
    "        - x_new: A new x dataset with the same indices as the input x dataset,\n",
    "          but with all x values that line up with the given y value removed.\n",
    "        - y_new: A new y dataset with the same indices as the input y dataset,\n",
    "          but with all y values that equal the given y value removed.\n",
    "    \"\"\"\n",
    "    import pandas as pd\n",
    "    \n",
    "    # Convert dictionaries to pandas Series for easier manipulation\n",
    "    if isinstance(x, dict):\n",
    "        x = pd.Series(x)\n",
    "    if isinstance(y, dict):\n",
    "        y = pd.Series(y)\n",
    "\n",
    "    # Create a mask for indices where y equals y_value\n",
    "    mask = y == y_value\n",
    "\n",
    "    # Use the mask to remove x and y values that line up with y_value\n",
    "    x_new = x[~mask]\n",
    "    y_new = y[~mask]\n",
    "\n",
    "    # Convert back to a dictionary if the input was a dictionary\n",
    "    if isinstance(x, dict):\n",
    "        x_new = x_new.to_dict()\n",
    "    if isinstance(y, dict):\n",
    "        y_new = y_new.to_dict()\n",
    "\n",
    "    return x_new, y_new"
   ]
  },
  {
   "cell_type": "code",
   "execution_count": 11,
   "id": "e3b35619",
   "metadata": {},
   "outputs": [],
   "source": [
    "def lenient_prediction(num_predictions, model, ngram):\n",
    "    '''\n",
    "    iteratively remove instances from the training data that were predicted incorrectly \n",
    "    and retrain the model on the updated dataset. The accuracy is \n",
    "    printed for each iteration, considering an increasing number of predictions.\n",
    "    \n",
    "    arguments x and y are the testing data\n",
    "    assumes data has already been partitioned into test and training splits\n",
    "    '''\n",
    "    accuracy = []\n",
    "    vectorizer = CountVectorizer(lowercase=True,stop_words='english',ngram_range = (1,ngram),tokenizer = token.tokenize)\n",
    "    \n",
    "    x_train_bow = vectorizer.fit_transform(x_train)\n",
    "    x_train_bow = np.array(x_train_bow.todense())\n",
    "    \n",
    "    model.fit(x_train_bow, y_train)\n",
    "    x_bow = np.array(vectorizer.transform(x_test).todense())\n",
    "    predicted_lenient = list(model.predict(x_bow))\n",
    "    \n",
    "    x_array, y_array = x_test.to_list(), y_test.to_list()\n",
    "\n",
    "    predictions = [[0 for _ in range(len(x_test))] for _ in range(num_predictions)]  # define prediction matrix\n",
    "    predictions[0] = list(predicted_lenient)\n",
    "    \n",
    "    print(f\"Accuracy taking the top prediction with ngram = {ngram}:\", metrics.accuracy_score(y_test, predicted_lenient))\n",
    "    accuracy.append(metrics.accuracy_score(y_test, predicted_lenient))\n",
    "    \n",
    "    for i in range(num_predictions-1):\n",
    "        for j in range(len(y_test)):\n",
    "            if predicted_lenient[j] != y_array[j]:  # if first prediction is wrong\n",
    "                x_new, y_new = x_train, y_train\n",
    "                for x in range(i + 1):\n",
    "                    x_new, y_new = remove_x_y_by_y(x_new, y_new, predictions[x][j])  # remove predicted author from the dataset\n",
    "\n",
    "                x_new_bow = vectorizer.transform(x_new)  # retrain the dataset\n",
    "                x_new_bow = np.array(x_new_bow.todense())\n",
    "\n",
    "                new_model = model.fit(x_new_bow, y_new)\n",
    "\n",
    "                retry_bow = vectorizer.transform([x_array[j]])  # Go back to the input that was originally wrong, and retry it\n",
    "                retry_bow = np.array(retry_bow.todense())\n",
    "\n",
    "                predicted_lenient[j] = new_model.predict(retry_bow)[0]  # replace in the predicted list\n",
    "\n",
    "            predictions[i + 1][j] = predicted_lenient[j]  # update predictions matrix\n",
    "\n",
    "        print(f\"Accuracy taking the top {i + 2} predictions with ngram = {ngram}:\", metrics.accuracy_score(y_test, predicted_lenient))\n",
    "        accuracy.append(metrics.accuracy_score(y_test, predicted_lenient))\n",
    "    return(accuracy)"
   ]
  },
  {
   "cell_type": "code",
   "execution_count": 12,
   "id": "838702cc",
   "metadata": {},
   "outputs": [
    {
     "name": "stdout",
     "output_type": "stream",
     "text": [
      "Accuracy taking the top prediction with ngram = 1: 0.5\n",
      "Accuracy taking the top 2 predictions with ngram = 1: 0.6875\n",
      "Accuracy taking the top 3 predictions with ngram = 1: 0.71875\n",
      "Accuracy taking the top 4 predictions with ngram = 1: 0.75\n",
      "Accuracy taking the top 5 predictions with ngram = 1: 0.78125\n",
      "Accuracy taking the top 6 predictions with ngram = 1: 0.78125\n",
      "[0.5, 0.6875, 0.71875, 0.75, 0.78125, 0.78125]\n",
      "CPU times: user 34.4 s, sys: 337 ms, total: 34.8 s\n",
      "Wall time: 9.15 s\n"
     ]
    }
   ],
   "source": [
    "%%time\n",
    "\n",
    "accuracy = lenient_prediction(6, ComplementNB(), 1)\n",
    "print(accuracy)"
   ]
  },
  {
   "cell_type": "code",
   "execution_count": 13,
   "id": "c79897a3",
   "metadata": {},
   "outputs": [
    {
     "data": {
      "text/plain": [
       "\"\\nTo generate the model_probability_matricies, uncomment the code below. It takes about an hour and a half to run, however.\\nTo make compiling this notebook easier, I've just defined the dictionary in the next code block.\\n\""
      ]
     },
     "execution_count": 13,
     "metadata": {},
     "output_type": "execute_result"
    }
   ],
   "source": [
    "'''\n",
    "To generate the model_probability_matricies, uncomment the code below. It takes about an hour and a half to run, however.\n",
    "To make compiling this notebook easier, I've just defined the dictionary in the next code block.\n",
    "'''\n",
    "\n",
    "# %%time\n",
    "\n",
    "# ngram_range = 6\n",
    "# leniency_range = 6\n",
    "# models = {ComplementNB(), MultinomialNB(), BernoulliNB(), GaussianNB()}\n",
    "\n",
    "# model_probability_matricies = {}\n",
    "\n",
    "# for model in models:\n",
    "#     model_probability_matricies[str(model)] = []\n",
    "#     for i in range(1, ngram_range+1):\n",
    "#         model_probability_matricies[str(model)].append(lenient_prediction(leniency_range, model, i))\n",
    "#         print(model_probability_matricies[str(model)])\n",
    "# print(model_probability_matricies)"
   ]
  },
  {
   "cell_type": "code",
   "execution_count": 14,
   "id": "3682af4c",
   "metadata": {},
   "outputs": [],
   "source": [
    "model_probability_matricies = {str(ComplementNB()): [[0.5, 0.6875, 0.71875, 0.75, 0.78125, 0.78125], [0.53125, 0.6875, 0.71875, 0.71875, 0.71875, 0.75], [0.53125, 0.65625, 0.6875, 0.6875, 0.6875, 0.71875], [0.53125, 0.65625, 0.65625, 0.65625, 0.65625, 0.6875], [0.53125, 0.65625, 0.65625, 0.65625, 0.65625, 0.65625], [0.53125, 0.625, 0.625, 0.65625, 0.65625, 0.65625]], str(BernoulliNB()): [[0.03125, 0.03125, 0.15625, 0.21875, 0.25, 0.34375], [0.0, 0.03125, 0.0625, 0.125, 0.25, 0.25], [0.0, 0.03125, 0.0625, 0.125, 0.25, 0.25], [0.0, 0.03125, 0.0625, 0.125, 0.25, 0.25], [0.0, 0.03125, 0.0625, 0.125, 0.21875, 0.25], [0.0, 0.03125, 0.0625, 0.125, 0.1875, 0.25]], str(MultinomialNB()): [[0.34375, 0.46875, 0.46875, 0.53125, 0.53125, 0.625], [0.3125, 0.40625, 0.40625, 0.40625, 0.4375, 0.4375], [0.3125, 0.40625, 0.40625, 0.40625, 0.4375, 0.4375], [0.3125, 0.40625, 0.40625, 0.40625, 0.4375, 0.4375], [0.3125, 0.40625, 0.40625, 0.40625, 0.4375, 0.4375], [0.3125, 0.40625, 0.40625, 0.40625, 0.40625, 0.4375]], str(GaussianNB()): [[0.28125, 0.40625, 0.4375, 0.4375, 0.4375, 0.46875], [0.3125, 0.40625, 0.46875, 0.5, 0.5, 0.53125], [0.3125, 0.40625, 0.46875, 0.5, 0.5, 0.53125], [0.3125, 0.40625, 0.5, 0.5, 0.5, 0.53125], [0.3125, 0.40625, 0.5, 0.5, 0.5, 0.53125], [0.3125, 0.40625, 0.5, 0.5, 0.5, 0.53125]]}"
   ]
  },
  {
   "cell_type": "code",
   "execution_count": 15,
   "id": "248b6039",
   "metadata": {
    "scrolled": false
   },
   "outputs": [
    {
     "data": {
      "application/vnd.jupyter.widget-view+json": {
       "model_id": "bde4b156752c419083fd9596e7c1a922",
       "version_major": 2,
       "version_minor": 0
      },
      "text/plain": [
       "VBox(children=(Dropdown(description='Model:', options=('ComplementNB()', 'BernoulliNB()', 'MultinomialNB()', '…"
      ]
     },
     "metadata": {},
     "output_type": "display_data"
    },
    {
     "data": {
      "application/vnd.jupyter.widget-view+json": {
       "model_id": "eff9e635849b470d9e15e30660a12117",
       "version_major": 2,
       "version_minor": 0
      },
      "image/png": "[encoded data removed]",
      "text/html": [
       "\n",
       "            <div style=\"display: inline-block;\">\n",
       "                <div class=\"jupyter-widgets widget-label\" style=\"text-align: center;\">\n",
       "                    Figure\n",
       "                </div>\n",
       "                <img src='data:image/png;base64,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' width=640.0/>\n",
       "            </div>\n",
       "        "
      ],
      "text/plain": [
       "Canvas(footer_visible=False, header_visible=False, resizable=False, toolbar=Toolbar(toolitems=[('Home', 'Reset…"
      ]
     },
     "metadata": {},
     "output_type": "display_data"
    }
   ],
   "source": [
    "\"\"\"\n",
    "This code generates an interactive plot to visualize the accuracy of different machine learning models\n",
    "at different levels of leniency, using n-grams as the input feature.\n",
    "\n",
    "The plot displays the accuracy values on the y-axis and the number of predictions allowed on the x-axis.\n",
    "The user can select a specific model and n-gram value using the dropdown and slider, respectively.\n",
    "The plot updates dynamically when the user changes the model or n-gram selection.\n",
    "\n",
    "Note: Ensure that the necessary libraries (nltk, pandas, numpy, sklearn, matplotlib, IPython, ipywidgets) are imported.\n",
    "\"\"\"\n",
    "\n",
    "# Enable interactive plots\n",
    "%matplotlib widget\n",
    "\n",
    "import numpy as np\n",
    "import matplotlib.pyplot as plt\n",
    "import ipywidgets as widgets\n",
    "from IPython.display import display, clear_output\n",
    "\n",
    "# Sample two-dimensional matrix\n",
    "matrix = np.array(model_probability_matricies[str(MultinomialNB())])\n",
    "\n",
    "# Generate x-axis values (element index)\n",
    "x = np.arange(matrix.shape[1]) + 1\n",
    "\n",
    "# Initialize the figure and axis\n",
    "fig, ax = plt.subplots()\n",
    "\n",
    "# Function to update the plot when a different array is selected\n",
    "def update_plot(change):\n",
    "    # Retrieve the selected values from the dropdown and slider\n",
    "    selected_ngram = slider.value\n",
    "    selected_model = dropdown.value\n",
    "    \n",
    "    # Get the matrix based on the selected model\n",
    "    matrix = np.array(model_probability_matricies[selected_model])\n",
    "    \n",
    "    # Clear the previous bars and labels\n",
    "    ax.clear()\n",
    "    \n",
    "    # Plot the new bars\n",
    "    bars = ax.bar(x, matrix[selected_ngram-1], align='center')\n",
    "    \n",
    "    # Set the y-axis limits\n",
    "    ax.set_ylim(0, 1)\n",
    "    \n",
    "    # Update the plot labels and title\n",
    "    ax.set_xlabel('Number of predictions allowed')\n",
    "    ax.set_ylabel(f'Accuracy (Ngram {selected_ngram})')\n",
    "    ax.set_title(f'{selected_model} Accuracy at Different Levels of Leniency', pad=20)\n",
    "    \n",
    "    # Remove the duplicate \"Figure 1\" label from the plot\n",
    "    fig.canvas.toolbar_visible = False\n",
    "    fig.canvas.header_visible = False\n",
    "    fig.canvas.footer_visible = False\n",
    "    fig.canvas.resizable = False\n",
    "    \n",
    "    # Update the figure\n",
    "    fig.canvas.draw()\n",
    "    \n",
    "    # Update the dropdown label\n",
    "    dropdown.description = 'Model:'\n",
    "\n",
    "# Create a dropdown to select different models\n",
    "dropdown = widgets.Dropdown(options=list(model_probability_matricies.keys()), value=str(ComplementNB()), description='Model:')\n",
    "\n",
    "# Create a slider to select different n-grams\n",
    "slider = widgets.IntSlider(value=1, min=1, max=matrix.shape[0], description='Ngrams:', readout=False)\n",
    "\n",
    "# Update the plot when the dropdown or slider value changes\n",
    "dropdown.observe(update_plot, names='value')\n",
    "slider.observe(update_plot, names='value')\n",
    "\n",
    "# Initialize the plot with the initial values\n",
    "update_plot({'new': 0})\n",
    "\n",
    "# Display the dropdown, slider, and the plot\n",
    "widgets.VBox([dropdown, slider, fig.canvas])\n"
   ]
  },
  {
   "cell_type": "markdown",
   "id": "0d536ef2",
   "metadata": {},
   "source": [
    "## Testing on outside documents"
   ]
  },
  {
   "cell_type": "code",
   "execution_count": 16,
   "id": "1d228d87",
   "metadata": {},
   "outputs": [
    {
     "name": "stdout",
     "output_type": "stream",
     "text": [
      "ComplementNB outside assignment: ['Christine L. Exley']\n"
     ]
    }
   ],
   "source": [
    "#1 Exley\n",
    "exley_file = open(\"test_documents/Exley_test.txt\", \"r\")\n",
    "exley_test = str(exley_file.read())\n",
    "exley_file.close()\n",
    "\n",
    "exley_test_BoW=vectorizer.transform([exley_test])\n",
    "exley_test_BoW=np.array(exley_test_BoW.todense())\n",
    "\n",
    "# using the complementNB model as that one performmed best in the test/train trials\n",
    "clf_complementNB_outside_one = clf_complementNB.predict(exley_test_BoW)\n",
    "\n",
    "print(\"ComplementNB outside assignment:\",clf_complementNB_outside_one)"
   ]
  },
  {
   "cell_type": "code",
   "execution_count": 17,
   "id": "676b7397",
   "metadata": {},
   "outputs": [
    {
     "name": "stdout",
     "output_type": "stream",
     "text": [
      "ComplementNB outside assignment: ['Ryan Oprea']\n"
     ]
    }
   ],
   "source": [
    "#2 Oprea\n",
    "oprea_file = open(\"test_documents/oprea_test.txt\", \"r\")\n",
    "oprea_test = str(oprea_file.read())\n",
    "oprea_file.close()\n",
    "oprea_test_BoW=vectorizer.transform([oprea_test])\n",
    "oprea_test_BoW=np.array(oprea_test_BoW.todense())\n",
    "clf_complementNB_outside_one = clf_complementNB.predict(oprea_test_BoW)\n",
    "print(\"ComplementNB outside assignment:\",clf_complementNB_outside_one)"
   ]
  },
  {
   "cell_type": "code",
   "execution_count": 18,
   "id": "196d81ba",
   "metadata": {},
   "outputs": [
    {
     "name": "stdout",
     "output_type": "stream",
     "text": [
      "ComplementNB outside assignment: ['Judd B. Kessler']\n"
     ]
    }
   ],
   "source": [
    "#3 Kessler\n",
    "kessler_file = open(\"test_documents/kessler_test.txt\", \"r\")\n",
    "kessler_test = str(kessler_file.read())\n",
    "kessler_file.close()\n",
    "kessler_test_BoW=vectorizer.transform([kessler_test])\n",
    "kessler_test_BoW=np.array(kessler_test_BoW.todense())\n",
    "clf_complementNB_outside_one = clf_complementNB.predict(kessler_test_BoW)\n",
    "print(\"ComplementNB outside assignment:\",clf_complementNB_outside_one)"
   ]
  },
  {
   "cell_type": "code",
   "execution_count": 19,
   "id": "81147cfa",
   "metadata": {},
   "outputs": [
    {
     "name": "stdout",
     "output_type": "stream",
     "text": [
      "ComplementNB outside assignment: ['Ignacio Esponda']\n"
     ]
    }
   ],
   "source": [
    "#4 Yariv - the only one that the complementNB model gets wrong. Note that this is two pages of a book review.\n",
    "#The other three samples are more academic. It makes sense that the model would do worse with this one.\n",
    "Yariv_file = open(\"test_documents/Yariv_test.txt\", \"r\")\n",
    "Yariv_test = str(Yariv_file.read())\n",
    "Yariv_file.close()\n",
    "Yariv_test_BoW=vectorizer.transform([Yariv_test])\n",
    "Yariv_test_BoW=np.array(Yariv_test_BoW.todense())\n",
    "clf_complementNB_outside_one = clf_complementNB.predict(Yariv_test_BoW)\n",
    "print(\"ComplementNB outside assignment:\",clf_complementNB_outside_one)"
   ]
  }
 ],
 "metadata": {
  "kernelspec": {
   "display_name": "Python 3 (ipykernel)",
   "language": "python",
   "name": "python3"
  },
  "language_info": {
   "codemirror_mode": {
    "name": "ipython",
    "version": 3
   },
   "file_extension": ".py",
   "mimetype": "text/x-python",
   "name": "python",
   "nbconvert_exporter": "python",
   "pygments_lexer": "ipython3",
   "version": "3.9.12"
  }
 },
 "nbformat": 4,
 "nbformat_minor": 5
}
